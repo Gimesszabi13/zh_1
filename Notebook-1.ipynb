{
    "metadata": {
        "kernelspec": {
            "name": "SQL",
            "display_name": "SQL",
            "language": "sql"
        },
        "language_info": {
            "name": "sql",
            "version": ""
        }
    },
    "nbformat_minor": 2,
    "nbformat": 4,
    "cells": [
        {
            "cell_type": "code",
            "source": [
                "SELECT\r\n",
                "    UGYFEL_FK AS 'Ügyfél Azonosító',\r\n",
                "    FOGLALAS_PK AS 'Foglalás Azonosító',\r\n",
                "    METTOL AS 'Foglalás Kezdődátum',\r\n",
                "    DATEADD(MONTH, 1, METTOL) AS 'Módosított kezdődátum'\r\n",
                "FROM\r\n",
                "    Foglalas  \r\n",
                "WHERE\r\n",
                "    UGYFEL_FK = 'emese';  \r\n",
                ""
            ],
            "metadata": {
                "azdata_cell_guid": "1a6aa5a3-8337-4977-be65-0b0628c14756",
                "language": "sql"
            },
            "outputs": [
                {
                    "output_type": "display_data",
                    "data": {
                        "text/html": "(7 rows affected)"
                    },
                    "metadata": {}
                },
                {
                    "output_type": "display_data",
                    "data": {
                        "text/html": "Total execution time: 00:00:00.006"
                    },
                    "metadata": {}
                },
                {
                    "output_type": "execute_result",
                    "metadata": {},
                    "execution_count": 2,
                    "data": {
                        "application/vnd.dataresource+json": {
                            "schema": {
                                "fields": [
                                    {
                                        "name": "Ügyfél Azonosító"
                                    },
                                    {
                                        "name": "Foglalás Azonosító"
                                    },
                                    {
                                        "name": "Foglalás Kezdődátum"
                                    },
                                    {
                                        "name": "Módosított kezdődátum"
                                    }
                                ]
                            },
                            "data": [
                                {
                                    "Ügyfél Azonosító": "emese",
                                    "Foglalás Azonosító": "706",
                                    "Foglalás Kezdődátum": "2016-07-22",
                                    "Módosított kezdődátum": "2016-08-22"
                                },
                                {
                                    "Ügyfél Azonosító": "emese",
                                    "Foglalás Azonosító": "765",
                                    "Foglalás Kezdődátum": "2016-08-09",
                                    "Módosított kezdődátum": "2016-09-09"
                                },
                                {
                                    "Ügyfél Azonosító": "emese",
                                    "Foglalás Azonosító": "1083",
                                    "Foglalás Kezdődátum": "2016-09-27",
                                    "Módosított kezdődátum": "2016-10-27"
                                },
                                {
                                    "Ügyfél Azonosító": "emese",
                                    "Foglalás Azonosító": "1250",
                                    "Foglalás Kezdődátum": "2016-11-05",
                                    "Módosított kezdődátum": "2016-12-05"
                                },
                                {
                                    "Ügyfél Azonosító": "emese",
                                    "Foglalás Azonosító": "1313",
                                    "Foglalás Kezdődátum": "2016-11-23",
                                    "Módosított kezdődátum": "2016-12-23"
                                },
                                {
                                    "Ügyfél Azonosító": "emese",
                                    "Foglalás Azonosító": "1354",
                                    "Foglalás Kezdődátum": "2016-12-07",
                                    "Módosított kezdődátum": "2017-01-07"
                                },
                                {
                                    "Ügyfél Azonosító": "emese",
                                    "Foglalás Azonosító": "1484",
                                    "Foglalás Kezdődátum": "2017-01-30",
                                    "Módosított kezdődátum": "2017-02-28"
                                }
                            ]
                        },
                        "text/html": [
                            "<table>",
                            "<tr><th>Ügyfél Azonosító</th><th>Foglalás Azonosító</th><th>Foglalás Kezdődátum</th><th>Módosított kezdődátum</th></tr>",
                            "<tr><td>emese</td><td>706</td><td>2016-07-22</td><td>2016-08-22</td></tr>",
                            "<tr><td>emese</td><td>765</td><td>2016-08-09</td><td>2016-09-09</td></tr>",
                            "<tr><td>emese</td><td>1083</td><td>2016-09-27</td><td>2016-10-27</td></tr>",
                            "<tr><td>emese</td><td>1250</td><td>2016-11-05</td><td>2016-12-05</td></tr>",
                            "<tr><td>emese</td><td>1313</td><td>2016-11-23</td><td>2016-12-23</td></tr>",
                            "<tr><td>emese</td><td>1354</td><td>2016-12-07</td><td>2017-01-07</td></tr>",
                            "<tr><td>emese</td><td>1484</td><td>2017-01-30</td><td>2017-02-28</td></tr>",
                            "</table>"
                        ]
                    }
                }
            ],
            "execution_count": 2
        },
        {
            "cell_type": "code",
            "source": [
                "SELECT\r\n",
                "    szh.SZALLAS_ID,\r\n",
                "    szh.SZALLAS_NEV,\r\n",
                "    COUNT(sz.KLIMAS) AS 'Klímás Szobák Száma'\r\n",
                "FROM\r\n",
                "    Szallashely szh\r\n",
                "JOIN\r\n",
                "    Szoba sz ON szh.SZALLAS_ID = sz.SZALLAS_FK\r\n",
                "\r\n",
                "\r\n",
                "GROUP BY\r\n",
                "    szh.SZALLAS_ID, szh.SZALLAS_NEV;"
            ],
            "metadata": {
                "language": "sql",
                "azdata_cell_guid": "4571267b-2e5c-493a-bb2d-969a9a30581e"
            },
            "outputs": [
                {
                    "output_type": "display_data",
                    "data": {
                        "text/html": "(20 rows affected)"
                    },
                    "metadata": {}
                },
                {
                    "output_type": "display_data",
                    "data": {
                        "text/html": "Total execution time: 00:00:00.012"
                    },
                    "metadata": {}
                },
                {
                    "output_type": "execute_result",
                    "metadata": {},
                    "execution_count": 23,
                    "data": {
                        "application/vnd.dataresource+json": {
                            "schema": {
                                "fields": [
                                    {
                                        "name": "SZALLAS_ID"
                                    },
                                    {
                                        "name": "SZALLAS_NEV"
                                    },
                                    {
                                        "name": "Klímás Szobák Száma"
                                    }
                                ]
                            },
                            "data": [
                                {
                                    "SZALLAS_ID": "1",
                                    "SZALLAS_NEV": "Sába-Ház",
                                    "Klímás Szobák Száma": "12"
                                },
                                {
                                    "SZALLAS_ID": "2",
                                    "SZALLAS_NEV": "Családi Ház",
                                    "Klímás Szobák Száma": "4"
                                },
                                {
                                    "SZALLAS_ID": "3",
                                    "SZALLAS_NEV": "Fortuna Apartman",
                                    "Klímás Szobák Száma": "8"
                                },
                                {
                                    "SZALLAS_ID": "4",
                                    "SZALLAS_NEV": "Fortuna panzió",
                                    "Klímás Szobák Száma": "15"
                                },
                                {
                                    "SZALLAS_ID": "5",
                                    "SZALLAS_NEV": "Fortuna Panzió",
                                    "Klímás Szobák Száma": "10"
                                },
                                {
                                    "SZALLAS_ID": "6",
                                    "SZALLAS_NEV": "Kentaur Hotel",
                                    "Klímás Szobák Száma": "35"
                                },
                                {
                                    "SZALLAS_ID": "7",
                                    "SZALLAS_NEV": "Szieszta Apartmanház",
                                    "Klímás Szobák Száma": "6"
                                },
                                {
                                    "SZALLAS_ID": "8",
                                    "SZALLAS_NEV": "Hotel Három Hattyú",
                                    "Klímás Szobák Száma": "39"
                                },
                                {
                                    "SZALLAS_ID": "9",
                                    "SZALLAS_NEV": "Jáde panzió",
                                    "Klímás Szobák Száma": "5"
                                },
                                {
                                    "SZALLAS_ID": "10",
                                    "SZALLAS_NEV": "Lagúna Hotel",
                                    "Klímás Szobák Száma": "25"
                                },
                                {
                                    "SZALLAS_ID": "11",
                                    "SZALLAS_NEV": "Partiszél Vendégház",
                                    "Klímás Szobák Száma": "5"
                                },
                                {
                                    "SZALLAS_ID": "12",
                                    "SZALLAS_NEV": "Gold Hotel",
                                    "Klímás Szobák Száma": "50"
                                },
                                {
                                    "SZALLAS_ID": "13",
                                    "SZALLAS_NEV": "Riviéra Panzió",
                                    "Klímás Szobák Száma": "12"
                                },
                                {
                                    "SZALLAS_ID": "14",
                                    "SZALLAS_NEV": "Nyárfás Vendégház",
                                    "Klímás Szobák Száma": "4"
                                },
                                {
                                    "SZALLAS_ID": "15",
                                    "SZALLAS_NEV": "Tímárház Panzió",
                                    "Klímás Szobák Száma": "12"
                                },
                                {
                                    "SZALLAS_ID": "16",
                                    "SZALLAS_NEV": "Bagoly Hotel",
                                    "Klímás Szobák Száma": "20"
                                },
                                {
                                    "SZALLAS_ID": "17",
                                    "SZALLAS_NEV": "Szarvas Hotel",
                                    "Klímás Szobák Száma": "15"
                                },
                                {
                                    "SZALLAS_ID": "18",
                                    "SZALLAS_NEV": "Fortuna Apartman",
                                    "Klímás Szobák Száma": "3"
                                },
                                {
                                    "SZALLAS_ID": "19",
                                    "SZALLAS_NEV": "Nyárfás Vendégház",
                                    "Klímás Szobák Száma": "4"
                                },
                                {
                                    "SZALLAS_ID": "20",
                                    "SZALLAS_NEV": "Kollégium",
                                    "Klímás Szobák Száma": "10"
                                }
                            ]
                        },
                        "text/html": [
                            "<table>",
                            "<tr><th>SZALLAS_ID</th><th>SZALLAS_NEV</th><th>Klímás Szobák Száma</th></tr>",
                            "<tr><td>1</td><td>Sába-Ház</td><td>12</td></tr>",
                            "<tr><td>2</td><td>Családi Ház</td><td>4</td></tr>",
                            "<tr><td>3</td><td>Fortuna Apartman</td><td>8</td></tr>",
                            "<tr><td>4</td><td>Fortuna panzió</td><td>15</td></tr>",
                            "<tr><td>5</td><td>Fortuna Panzió</td><td>10</td></tr>",
                            "<tr><td>6</td><td>Kentaur Hotel</td><td>35</td></tr>",
                            "<tr><td>7</td><td>Szieszta Apartmanház</td><td>6</td></tr>",
                            "<tr><td>8</td><td>Hotel Három Hattyú</td><td>39</td></tr>",
                            "<tr><td>9</td><td>Jáde panzió</td><td>5</td></tr>",
                            "<tr><td>10</td><td>Lagúna Hotel</td><td>25</td></tr>",
                            "<tr><td>11</td><td>Partiszél Vendégház</td><td>5</td></tr>",
                            "<tr><td>12</td><td>Gold Hotel</td><td>50</td></tr>",
                            "<tr><td>13</td><td>Riviéra Panzió</td><td>12</td></tr>",
                            "<tr><td>14</td><td>Nyárfás Vendégház</td><td>4</td></tr>",
                            "<tr><td>15</td><td>Tímárház Panzió</td><td>12</td></tr>",
                            "<tr><td>16</td><td>Bagoly Hotel</td><td>20</td></tr>",
                            "<tr><td>17</td><td>Szarvas Hotel</td><td>15</td></tr>",
                            "<tr><td>18</td><td>Fortuna Apartman</td><td>3</td></tr>",
                            "<tr><td>19</td><td>Nyárfás Vendégház</td><td>4</td></tr>",
                            "<tr><td>20</td><td>Kollégium</td><td>10</td></tr>",
                            "</table>"
                        ]
                    }
                }
            ],
            "execution_count": 23
        },
        {
            "cell_type": "code",
            "source": [
                "SELECT\r\n",
                "    szh.SZALLAS_ID,\r\n",
                "    szh.SZALLAS_NEV,\r\n",
                "    COUNT(CASE WHEN UPPER(sz.KLIMAS) = 'TRUE' THEN 1 END) AS 'Klímás Szobák Száma'\r\n",
                "FROM\r\n",
                "    Szallashely szh\r\n",
                "JOIN\r\n",
                "    Szoba sz ON szh.SZALLAS_ID = sz.SZALLAS_FK\r\n",
                "GROUP BY\r\n",
                "    szh.SZALLAS_ID, szh.SZALLAS_NEV;\r\n",
                "\r\n",
                "\r\n",
                "\r\n",
                "\r\n",
                "\r\n",
                ""
            ],
            "metadata": {
                "language": "sql",
                "azdata_cell_guid": "9086d674-4150-4beb-93f9-29bdda6c9aeb"
            },
            "outputs": [
                {
                    "output_type": "display_data",
                    "data": {
                        "text/html": "Warning: Null value is eliminated by an aggregate or other SET operation."
                    },
                    "metadata": {}
                },
                {
                    "output_type": "display_data",
                    "data": {
                        "text/html": "(20 rows affected)"
                    },
                    "metadata": {}
                },
                {
                    "output_type": "display_data",
                    "data": {
                        "text/html": "Total execution time: 00:00:00.016"
                    },
                    "metadata": {}
                },
                {
                    "output_type": "execute_result",
                    "metadata": {},
                    "execution_count": 29,
                    "data": {
                        "application/vnd.dataresource+json": {
                            "schema": {
                                "fields": [
                                    {
                                        "name": "SZALLAS_ID"
                                    },
                                    {
                                        "name": "SZALLAS_NEV"
                                    },
                                    {
                                        "name": "Klímás Szobák Száma"
                                    }
                                ]
                            },
                            "data": [
                                {
                                    "SZALLAS_ID": "1",
                                    "SZALLAS_NEV": "Sába-Ház",
                                    "Klímás Szobák Száma": "0"
                                },
                                {
                                    "SZALLAS_ID": "2",
                                    "SZALLAS_NEV": "Családi Ház",
                                    "Klímás Szobák Száma": "0"
                                },
                                {
                                    "SZALLAS_ID": "3",
                                    "SZALLAS_NEV": "Fortuna Apartman",
                                    "Klímás Szobák Száma": "0"
                                },
                                {
                                    "SZALLAS_ID": "4",
                                    "SZALLAS_NEV": "Fortuna panzió",
                                    "Klímás Szobák Száma": "0"
                                },
                                {
                                    "SZALLAS_ID": "5",
                                    "SZALLAS_NEV": "Fortuna Panzió",
                                    "Klímás Szobák Száma": "0"
                                },
                                {
                                    "SZALLAS_ID": "6",
                                    "SZALLAS_NEV": "Kentaur Hotel",
                                    "Klímás Szobák Száma": "0"
                                },
                                {
                                    "SZALLAS_ID": "7",
                                    "SZALLAS_NEV": "Szieszta Apartmanház",
                                    "Klímás Szobák Száma": "0"
                                },
                                {
                                    "SZALLAS_ID": "8",
                                    "SZALLAS_NEV": "Hotel Három Hattyú",
                                    "Klímás Szobák Száma": "0"
                                },
                                {
                                    "SZALLAS_ID": "9",
                                    "SZALLAS_NEV": "Jáde panzió",
                                    "Klímás Szobák Száma": "0"
                                },
                                {
                                    "SZALLAS_ID": "10",
                                    "SZALLAS_NEV": "Lagúna Hotel",
                                    "Klímás Szobák Száma": "0"
                                },
                                {
                                    "SZALLAS_ID": "11",
                                    "SZALLAS_NEV": "Partiszél Vendégház",
                                    "Klímás Szobák Száma": "0"
                                },
                                {
                                    "SZALLAS_ID": "12",
                                    "SZALLAS_NEV": "Gold Hotel",
                                    "Klímás Szobák Száma": "0"
                                },
                                {
                                    "SZALLAS_ID": "13",
                                    "SZALLAS_NEV": "Riviéra Panzió",
                                    "Klímás Szobák Száma": "0"
                                },
                                {
                                    "SZALLAS_ID": "14",
                                    "SZALLAS_NEV": "Nyárfás Vendégház",
                                    "Klímás Szobák Száma": "0"
                                },
                                {
                                    "SZALLAS_ID": "15",
                                    "SZALLAS_NEV": "Tímárház Panzió",
                                    "Klímás Szobák Száma": "0"
                                },
                                {
                                    "SZALLAS_ID": "16",
                                    "SZALLAS_NEV": "Bagoly Hotel",
                                    "Klímás Szobák Száma": "0"
                                },
                                {
                                    "SZALLAS_ID": "17",
                                    "SZALLAS_NEV": "Szarvas Hotel",
                                    "Klímás Szobák Száma": "0"
                                },
                                {
                                    "SZALLAS_ID": "18",
                                    "SZALLAS_NEV": "Fortuna Apartman",
                                    "Klímás Szobák Száma": "0"
                                },
                                {
                                    "SZALLAS_ID": "19",
                                    "SZALLAS_NEV": "Nyárfás Vendégház",
                                    "Klímás Szobák Száma": "0"
                                },
                                {
                                    "SZALLAS_ID": "20",
                                    "SZALLAS_NEV": "Kollégium",
                                    "Klímás Szobák Száma": "0"
                                }
                            ]
                        },
                        "text/html": [
                            "<table>",
                            "<tr><th>SZALLAS_ID</th><th>SZALLAS_NEV</th><th>Klímás Szobák Száma</th></tr>",
                            "<tr><td>1</td><td>Sába-Ház</td><td>0</td></tr>",
                            "<tr><td>2</td><td>Családi Ház</td><td>0</td></tr>",
                            "<tr><td>3</td><td>Fortuna Apartman</td><td>0</td></tr>",
                            "<tr><td>4</td><td>Fortuna panzió</td><td>0</td></tr>",
                            "<tr><td>5</td><td>Fortuna Panzió</td><td>0</td></tr>",
                            "<tr><td>6</td><td>Kentaur Hotel</td><td>0</td></tr>",
                            "<tr><td>7</td><td>Szieszta Apartmanház</td><td>0</td></tr>",
                            "<tr><td>8</td><td>Hotel Három Hattyú</td><td>0</td></tr>",
                            "<tr><td>9</td><td>Jáde panzió</td><td>0</td></tr>",
                            "<tr><td>10</td><td>Lagúna Hotel</td><td>0</td></tr>",
                            "<tr><td>11</td><td>Partiszél Vendégház</td><td>0</td></tr>",
                            "<tr><td>12</td><td>Gold Hotel</td><td>0</td></tr>",
                            "<tr><td>13</td><td>Riviéra Panzió</td><td>0</td></tr>",
                            "<tr><td>14</td><td>Nyárfás Vendégház</td><td>0</td></tr>",
                            "<tr><td>15</td><td>Tímárház Panzió</td><td>0</td></tr>",
                            "<tr><td>16</td><td>Bagoly Hotel</td><td>0</td></tr>",
                            "<tr><td>17</td><td>Szarvas Hotel</td><td>0</td></tr>",
                            "<tr><td>18</td><td>Fortuna Apartman</td><td>0</td></tr>",
                            "<tr><td>19</td><td>Nyárfás Vendégház</td><td>0</td></tr>",
                            "<tr><td>20</td><td>Kollégium</td><td>0</td></tr>",
                            "</table>"
                        ]
                    }
                }
            ],
            "execution_count": 29
        },
        {
            "cell_type": "code",
            "source": [
                "SELECT\r\n",
                "    szh.SZALLAS_NEV,\r\n",
                "    COUNT(f.FOGLALAS_PK) AS 'Foglalások Száma'\r\n",
                "FROM\r\n",
                "    Szallashely szh\r\n",
                "LEFT JOIN\r\n",
                "    Foglalas f ON szh.SZALLAS_ID = f.FOGLALAS_PK\r\n",
                "GROUP BY\r\n",
                "    szh.SZALLAS_NEV;\r\n",
                ""
            ],
            "metadata": {
                "azdata_cell_guid": "448659b2-9334-43f9-b5a6-c7f82dd4f428",
                "language": "sql"
            },
            "outputs": [
                {
                    "output_type": "display_data",
                    "data": {
                        "text/html": "Warning: Null value is eliminated by an aggregate or other SET operation."
                    },
                    "metadata": {}
                },
                {
                    "output_type": "display_data",
                    "data": {
                        "text/html": "(18 rows affected)"
                    },
                    "metadata": {}
                },
                {
                    "output_type": "display_data",
                    "data": {
                        "text/html": "Total execution time: 00:00:00.006"
                    },
                    "metadata": {}
                },
                {
                    "output_type": "execute_result",
                    "metadata": {},
                    "execution_count": 30,
                    "data": {
                        "application/vnd.dataresource+json": {
                            "schema": {
                                "fields": [
                                    {
                                        "name": "SZALLAS_NEV"
                                    },
                                    {
                                        "name": "Foglalások Száma"
                                    }
                                ]
                            },
                            "data": [
                                {
                                    "SZALLAS_NEV": "Bagoly Hotel",
                                    "Foglalások Száma": "0"
                                },
                                {
                                    "SZALLAS_NEV": "Családi Ház",
                                    "Foglalások Száma": "0"
                                },
                                {
                                    "SZALLAS_NEV": "Fortuna Apartman",
                                    "Foglalások Száma": "0"
                                },
                                {
                                    "SZALLAS_NEV": "Fortuna panzió",
                                    "Foglalások Száma": "0"
                                },
                                {
                                    "SZALLAS_NEV": "Gold Hotel",
                                    "Foglalások Száma": "0"
                                },
                                {
                                    "SZALLAS_NEV": "Hotel Három Hattyú",
                                    "Foglalások Száma": "0"
                                },
                                {
                                    "SZALLAS_NEV": "Jáde panzió",
                                    "Foglalások Száma": "0"
                                },
                                {
                                    "SZALLAS_NEV": "Kentaur Hotel",
                                    "Foglalások Száma": "0"
                                },
                                {
                                    "SZALLAS_NEV": "Kollégium",
                                    "Foglalások Száma": "0"
                                },
                                {
                                    "SZALLAS_NEV": "Lagúna Hotel",
                                    "Foglalások Száma": "0"
                                },
                                {
                                    "SZALLAS_NEV": "Müller Vendégház",
                                    "Foglalások Száma": "0"
                                },
                                {
                                    "SZALLAS_NEV": "Nyárfás Vendégház",
                                    "Foglalások Száma": "0"
                                },
                                {
                                    "SZALLAS_NEV": "Partiszél Vendégház",
                                    "Foglalások Száma": "0"
                                },
                                {
                                    "SZALLAS_NEV": "Riviéra Panzió",
                                    "Foglalások Száma": "0"
                                },
                                {
                                    "SZALLAS_NEV": "Sába-Ház",
                                    "Foglalások Száma": "0"
                                },
                                {
                                    "SZALLAS_NEV": "Szarvas Hotel",
                                    "Foglalások Száma": "0"
                                },
                                {
                                    "SZALLAS_NEV": "Szieszta Apartmanház",
                                    "Foglalások Száma": "0"
                                },
                                {
                                    "SZALLAS_NEV": "Tímárház Panzió",
                                    "Foglalások Száma": "0"
                                }
                            ]
                        },
                        "text/html": [
                            "<table>",
                            "<tr><th>SZALLAS_NEV</th><th>Foglalások Száma</th></tr>",
                            "<tr><td>Bagoly Hotel</td><td>0</td></tr>",
                            "<tr><td>Családi Ház</td><td>0</td></tr>",
                            "<tr><td>Fortuna Apartman</td><td>0</td></tr>",
                            "<tr><td>Fortuna panzió</td><td>0</td></tr>",
                            "<tr><td>Gold Hotel</td><td>0</td></tr>",
                            "<tr><td>Hotel Három Hattyú</td><td>0</td></tr>",
                            "<tr><td>Jáde panzió</td><td>0</td></tr>",
                            "<tr><td>Kentaur Hotel</td><td>0</td></tr>",
                            "<tr><td>Kollégium</td><td>0</td></tr>",
                            "<tr><td>Lagúna Hotel</td><td>0</td></tr>",
                            "<tr><td>Müller Vendégház</td><td>0</td></tr>",
                            "<tr><td>Nyárfás Vendégház</td><td>0</td></tr>",
                            "<tr><td>Partiszél Vendégház</td><td>0</td></tr>",
                            "<tr><td>Riviéra Panzió</td><td>0</td></tr>",
                            "<tr><td>Sába-Ház</td><td>0</td></tr>",
                            "<tr><td>Szarvas Hotel</td><td>0</td></tr>",
                            "<tr><td>Szieszta Apartmanház</td><td>0</td></tr>",
                            "<tr><td>Tímárház Panzió</td><td>0</td></tr>",
                            "</table>"
                        ]
                    }
                }
            ],
            "execution_count": 30
        }
    ]
}