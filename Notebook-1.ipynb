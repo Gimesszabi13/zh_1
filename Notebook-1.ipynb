{
    "metadata": {
        "kernelspec": {
            "name": "SQL",
            "display_name": "SQL",
            "language": "sql"
        },
        "language_info": {
            "name": "sql",
            "version": ""
        }
    },
    "nbformat_minor": 2,
    "nbformat": 4,
    "cells": [
        {
            "cell_type": "code",
            "source": [
                "GET"
            ],
            "metadata": {
                "azdata_cell_guid": "43970215-4e86-4f1d-a2ba-334711e0c855",
                "language": ""
            },
            "outputs": [],
            "execution_count": null
        }
    ]
}